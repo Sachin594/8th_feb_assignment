{
 "cells": [
  {
   "cell_type": "code",
   "execution_count": 1,
   "id": "74709e9c-74cc-4faa-9f94-79277718721c",
   "metadata": {},
   "outputs": [],
   "source": [
    "## 1.\n",
    "## Answer - \n",
    "\n",
    "##   Abstraction is defined as a process of hiding the implementation details of a system from the user. Thus, by using abstraction, \n",
    "##   we provided only the functionality of the system to the user. Consequently, the user will have information on what the system does, \n",
    "##   but not on how the system does it."
   ]
  },
  {
   "cell_type": "code",
   "execution_count": 2,
   "id": "b2b180f4-8c3f-4c4a-90f2-1209061aea4f",
   "metadata": {},
   "outputs": [],
   "source": [
    "## 2.\n",
    "## Answer -\n",
    "\n",
    "##  Abstraction is a process of hiding the implementation details of a system from the user, and only the functional details will be \n",
    "##  available to the user end. On the other hand, Encapsulation is a method of wrapping up the data and code acting on the data into \n",
    "##  a single unit.\n",
    "\n",
    "##  Differences between abstraction and encapsulations are --\n",
    "\n",
    "##  Abstraction is the process of gaining information whereas encapsulation is a method that helps wrap up data into a single module.\n",
    "##  The problems in abstraction are solved at the interface level.whereas Problems in encapsulation are solved at the implementation level.\n",
    "##  Abstraction helps hide the unwanted details/information.encapsulation helps hide data using a single entity, or using a unit with the help of method that helps protect the information.\n",
    "##  Abstraction can be performed using objects that are encapsulated within a single module.Objects in encapsulation don't need to be in abstraction."
   ]
  },
  {
   "cell_type": "code",
   "execution_count": 3,
   "id": "6ea68b75-a91c-4436-b04c-ed68ad870510",
   "metadata": {},
   "outputs": [],
   "source": [
    "## 3.\n",
    "## Answer - \n",
    "\n",
    "## The 'abc' module in the Python library provides the infrastructure for defining custom abstract base classes. Abstract class cannot be\n",
    "##  instantiated in python. An Abstract method can be call by its subclasses."
   ]
  },
  {
   "cell_type": "code",
   "execution_count": 4,
   "id": "4ac6284d-2a18-46f4-820f-5aef61f7748c",
   "metadata": {},
   "outputs": [],
   "source": [
    "## 4.\n",
    "## Answer - \n",
    "\n",
    "## Data Abstraction in Python can be achieved through creating abstract classes and inheriting them later.A class that consists of one\n",
    "##  or more abstract method is called the abstract class. Abstract methods do not contain their implementation. Abstract class can be\n",
    "##  inherited by the subclass and abstract method gets its definition in the subclass. Abstraction classes are meant to be the blueprint\n",
    "##  of the other class. An abstract class can be useful when we are designing large functions. An abstract class is also helpful to provide\n",
    "##  the standard interface for different implementations of components. Python provides the abc module to use the abstraction in the Python\n",
    "##  program."
   ]
  },
  {
   "cell_type": "code",
   "execution_count": null,
   "id": "acad5433-f582-4a43-809f-a98c52e36767",
   "metadata": {},
   "outputs": [],
   "source": []
  }
 ],
 "metadata": {
  "kernelspec": {
   "display_name": "Python 3 (ipykernel)",
   "language": "python",
   "name": "python3"
  },
  "language_info": {
   "codemirror_mode": {
    "name": "ipython",
    "version": 3
   },
   "file_extension": ".py",
   "mimetype": "text/x-python",
   "name": "python",
   "nbconvert_exporter": "python",
   "pygments_lexer": "ipython3",
   "version": "3.10.8"
  }
 },
 "nbformat": 4,
 "nbformat_minor": 5
}
